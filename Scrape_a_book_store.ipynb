{
 "cells": [
  {
   "cell_type": "code",
   "execution_count": 1,
   "metadata": {},
   "outputs": [],
   "source": [
    "import requests\n",
    "from bs4 import BeautifulSoup\n",
    "url = \"http://books.toscrape.com/catalogue/page-{}.html\""
   ]
  },
  {
   "cell_type": "code",
   "execution_count": 2,
   "metadata": {},
   "outputs": [],
   "source": [
    "def scrap(url):\n",
    "    data = requests.get(url)\n",
    "    soup = BeautifulSoup(data.text)\n",
    "    \n",
    "    content = []\n",
    "    product_pod_articles = soup.find_all(\"article\",attrs= {\"class\":\"product_pod\"})\n",
    "    \n",
    "    for product_pod_article in product_pod_articles:\n",
    "        img_url = product_pod_article.find(\"a\").find(\"img\")[\"src\"]\n",
    "        book_name = \"\".join(product_pod_article.find(\"a\").find(\"img\")[\"alt\"].split(\",\"))\n",
    "        product_price = \"\".join(list(product_pod_article.find(\"p\",attrs={\"class\":\"price_color\"}).text)[1:])\n",
    "        content.append([img_url,book_name,product_price])\n",
    "    \n",
    "    return content\n",
    "    \n",
    "    "
   ]
  },
  {
   "cell_type": "code",
   "execution_count": 3,
   "metadata": {},
   "outputs": [],
   "source": [
    "all_content = []\n",
    "for i in range(50):\n",
    "    all_content.extend(scrap(url.format(i+1)))"
   ]
  },
  {
   "cell_type": "code",
   "execution_count": 4,
   "metadata": {},
   "outputs": [
    {
     "data": {
      "text/plain": [
       "1000"
      ]
     },
     "execution_count": 4,
     "metadata": {},
     "output_type": "execute_result"
    }
   ],
   "source": [
    "len(all_content)"
   ]
  },
  {
   "cell_type": "code",
   "execution_count": 5,
   "metadata": {},
   "outputs": [],
   "source": [
    "with open(\"output.csv\",\"w\",encoding=\"utf-8\") as f:\n",
    "    header = \"image_url, book_title, product_price\\n\"\n",
    "    f.write(header)\n",
    "    for content in all_content:\n",
    "        row = \" , \".join(content)+\"\\n\"\n",
    "        f.write(row)\n",
    "    "
   ]
  },
  {
   "cell_type": "code",
   "execution_count": null,
   "metadata": {},
   "outputs": [],
   "source": []
  }
 ],
 "metadata": {
  "kernelspec": {
   "display_name": "Python 3",
   "language": "python",
   "name": "python3"
  },
  "language_info": {
   "codemirror_mode": {
    "name": "ipython",
    "version": 3
   },
   "file_extension": ".py",
   "mimetype": "text/x-python",
   "name": "python",
   "nbconvert_exporter": "python",
   "pygments_lexer": "ipython3",
   "version": "3.6.10"
  }
 },
 "nbformat": 4,
 "nbformat_minor": 4
}
